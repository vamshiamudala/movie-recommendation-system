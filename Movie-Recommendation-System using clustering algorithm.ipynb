{
 "cells": [
  {
   "cell_type": "markdown",
   "id": "c3c201b4",
   "metadata": {},
   "source": [
    "# Clustering Algorithms - K Means"
   ]
  },
  {
   "cell_type": "code",
   "execution_count": 1,
   "id": "94f8d048",
   "metadata": {},
   "outputs": [],
   "source": [
    "import pandas as pd\n",
    "import numpy as np\n",
    "from sklearn.preprocessing import MultiLabelBinarizer, StandardScaler\n",
    "from sklearn.cluster import KMeans\n",
    "from ast import literal_eval\n",
    "\n",
    "# Load and merge the data\n",
    "dataset1 = pd.read_csv('tmdb_5000_credits.csv')\n",
    "dataset2 = pd.read_csv('tmdb_5000_movies.csv')\n",
    "\n",
    "dataset1.columns = ['id', 'title', 'cast', 'crew']\n",
    "movies = dataset2.merge(dataset1, on='id')\n",
    "\n",
    "# Rename columns to resolve conflicts\n",
    "movies.rename(columns={'title_x': 'title'}, inplace=True)\n",
    "movies.drop(columns=['title_y'], inplace=True)"
   ]
  },
  {
   "cell_type": "markdown",
   "id": "decef541",
   "metadata": {},
   "source": [
    "Data Preparation"
   ]
  },
  {
   "cell_type": "code",
   "execution_count": 2,
   "id": "b5f068db",
   "metadata": {},
   "outputs": [],
   "source": [
    "\n",
    "def extractFeature(obj):\n",
    "    if isinstance(obj, str):\n",
    "        obj = literal_eval(obj)\n",
    "    if isinstance(obj, list):\n",
    "        return [d['name'] for d in obj]\n",
    "    return []\n",
    "\n",
    "\n",
    "def topCastNames(cast_list, top_n=5):\n",
    "    if isinstance(cast_list, list):\n",
    "        names = [member['name'] for member in cast_list[:top_n]]\n",
    "        return names\n",
    "    return []\n"
   ]
  },
  {
   "cell_type": "markdown",
   "id": "2e52d3ba",
   "metadata": {},
   "source": [
    "Feature Extraction"
   ]
  },
  {
   "cell_type": "code",
   "execution_count": 3,
   "id": "e72f4d26",
   "metadata": {},
   "outputs": [],
   "source": [
    "movies['genres'] = movies['genres'].apply(extractFeature)\n",
    "movies['keywords'] = movies['keywords'].apply(extractFeature)\n",
    "movies['cast'] = movies['cast'].apply(literal_eval)\n",
    "movies['castNames'] = movies['cast'].apply(topCastNames)\n",
    "\n",
    "\n",
    "genres = movies['genres']\n",
    "keywords = movies['keywords']\n",
    "cast = movies['castNames']"
   ]
  },
  {
   "cell_type": "markdown",
   "id": "180c24d9",
   "metadata": {},
   "source": [
    "Handle missing values"
   ]
  },
  {
   "cell_type": "code",
   "execution_count": 4,
   "id": "af765555",
   "metadata": {},
   "outputs": [],
   "source": [
    "genres = genres.dropna()\n",
    "keywords = keywords.dropna()\n",
    "cast = cast.dropna()"
   ]
  },
  {
   "cell_type": "markdown",
   "id": "8f6ff7b9",
   "metadata": {},
   "source": [
    "Encoding the Categorical Features"
   ]
  },
  {
   "cell_type": "code",
   "execution_count": 5,
   "id": "26d6f49d",
   "metadata": {},
   "outputs": [],
   "source": [
    "genreMlb = MultiLabelBinarizer()\n",
    "encodedGenres = genreMlb.fit_transform(genres)\n",
    "\n",
    "keywordsMlb = MultiLabelBinarizer()\n",
    "encodedKeywords = keywordsMlb.fit_transform(keywords)\n",
    "\n",
    "castMlb = MultiLabelBinarizer()\n",
    "encodedCast = castMlb.fit_transform(cast)"
   ]
  },
  {
   "cell_type": "markdown",
   "id": "ccc16bb8",
   "metadata": {},
   "source": [
    "Clustering"
   ]
  },
  {
   "cell_type": "code",
   "execution_count": 33,
   "id": "61d860b6",
   "metadata": {},
   "outputs": [
    {
     "data": {
      "text/html": [
       "<style>#sk-container-id-3 {color: black;background-color: white;}#sk-container-id-3 pre{padding: 0;}#sk-container-id-3 div.sk-toggleable {background-color: white;}#sk-container-id-3 label.sk-toggleable__label {cursor: pointer;display: block;width: 100%;margin-bottom: 0;padding: 0.3em;box-sizing: border-box;text-align: center;}#sk-container-id-3 label.sk-toggleable__label-arrow:before {content: \"▸\";float: left;margin-right: 0.25em;color: #696969;}#sk-container-id-3 label.sk-toggleable__label-arrow:hover:before {color: black;}#sk-container-id-3 div.sk-estimator:hover label.sk-toggleable__label-arrow:before {color: black;}#sk-container-id-3 div.sk-toggleable__content {max-height: 0;max-width: 0;overflow: hidden;text-align: left;background-color: #f0f8ff;}#sk-container-id-3 div.sk-toggleable__content pre {margin: 0.2em;color: black;border-radius: 0.25em;background-color: #f0f8ff;}#sk-container-id-3 input.sk-toggleable__control:checked~div.sk-toggleable__content {max-height: 200px;max-width: 100%;overflow: auto;}#sk-container-id-3 input.sk-toggleable__control:checked~label.sk-toggleable__label-arrow:before {content: \"▾\";}#sk-container-id-3 div.sk-estimator input.sk-toggleable__control:checked~label.sk-toggleable__label {background-color: #d4ebff;}#sk-container-id-3 div.sk-label input.sk-toggleable__control:checked~label.sk-toggleable__label {background-color: #d4ebff;}#sk-container-id-3 input.sk-hidden--visually {border: 0;clip: rect(1px 1px 1px 1px);clip: rect(1px, 1px, 1px, 1px);height: 1px;margin: -1px;overflow: hidden;padding: 0;position: absolute;width: 1px;}#sk-container-id-3 div.sk-estimator {font-family: monospace;background-color: #f0f8ff;border: 1px dotted black;border-radius: 0.25em;box-sizing: border-box;margin-bottom: 0.5em;}#sk-container-id-3 div.sk-estimator:hover {background-color: #d4ebff;}#sk-container-id-3 div.sk-parallel-item::after {content: \"\";width: 100%;border-bottom: 1px solid gray;flex-grow: 1;}#sk-container-id-3 div.sk-label:hover label.sk-toggleable__label {background-color: #d4ebff;}#sk-container-id-3 div.sk-serial::before {content: \"\";position: absolute;border-left: 1px solid gray;box-sizing: border-box;top: 0;bottom: 0;left: 50%;z-index: 0;}#sk-container-id-3 div.sk-serial {display: flex;flex-direction: column;align-items: center;background-color: white;padding-right: 0.2em;padding-left: 0.2em;position: relative;}#sk-container-id-3 div.sk-item {position: relative;z-index: 1;}#sk-container-id-3 div.sk-parallel {display: flex;align-items: stretch;justify-content: center;background-color: white;position: relative;}#sk-container-id-3 div.sk-item::before, #sk-container-id-3 div.sk-parallel-item::before {content: \"\";position: absolute;border-left: 1px solid gray;box-sizing: border-box;top: 0;bottom: 0;left: 50%;z-index: -1;}#sk-container-id-3 div.sk-parallel-item {display: flex;flex-direction: column;z-index: 1;position: relative;background-color: white;}#sk-container-id-3 div.sk-parallel-item:first-child::after {align-self: flex-end;width: 50%;}#sk-container-id-3 div.sk-parallel-item:last-child::after {align-self: flex-start;width: 50%;}#sk-container-id-3 div.sk-parallel-item:only-child::after {width: 0;}#sk-container-id-3 div.sk-dashed-wrapped {border: 1px dashed gray;margin: 0 0.4em 0.5em 0.4em;box-sizing: border-box;padding-bottom: 0.4em;background-color: white;}#sk-container-id-3 div.sk-label label {font-family: monospace;font-weight: bold;display: inline-block;line-height: 1.2em;}#sk-container-id-3 div.sk-label-container {text-align: center;}#sk-container-id-3 div.sk-container {/* jupyter's `normalize.less` sets `[hidden] { display: none; }` but bootstrap.min.css set `[hidden] { display: none !important; }` so we also need the `!important` here to be able to override the default hidden behavior on the sphinx rendered scikit-learn.org. See: https://github.com/scikit-learn/scikit-learn/issues/21755 */display: inline-block !important;position: relative;}#sk-container-id-3 div.sk-text-repr-fallback {display: none;}</style><div id=\"sk-container-id-3\" class=\"sk-top-container\"><div class=\"sk-text-repr-fallback\"><pre>KMeans(n_clusters=100, n_init=&#x27;auto&#x27;, random_state=42)</pre><b>In a Jupyter environment, please rerun this cell to show the HTML representation or trust the notebook. <br />On GitHub, the HTML representation is unable to render, please try loading this page with nbviewer.org.</b></div><div class=\"sk-container\" hidden><div class=\"sk-item\"><div class=\"sk-estimator sk-toggleable\"><input class=\"sk-toggleable__control sk-hidden--visually\" id=\"sk-estimator-id-3\" type=\"checkbox\" checked><label for=\"sk-estimator-id-3\" class=\"sk-toggleable__label sk-toggleable__label-arrow\">KMeans</label><div class=\"sk-toggleable__content\"><pre>KMeans(n_clusters=100, n_init=&#x27;auto&#x27;, random_state=42)</pre></div></div></div></div></div>"
      ],
      "text/plain": [
       "KMeans(n_clusters=100, n_init='auto', random_state=42)"
      ]
     },
     "execution_count": 33,
     "metadata": {},
     "output_type": "execute_result"
    }
   ],
   "source": [
    "k = 100\n",
    "\n",
    "genresKmeans = KMeans(n_clusters = k, random_state = 42, n_init = 'auto')\n",
    "genresKmeans.fit(encodedGenres)\n",
    "\n",
    "keywordsKmeans = KMeans(n_clusters = k, random_state = 42, n_init = 'auto')\n",
    "keywordsKmeans.fit(encodedKeywords)\n",
    "\n",
    "castKmeans = KMeans(n_clusters = k, random_state= 42, n_init = 'auto')\n",
    "castKmeans.fit(encodedCast)"
   ]
  },
  {
   "cell_type": "markdown",
   "id": "d3a60f2b",
   "metadata": {},
   "source": [
    "Assigning the cluster labels to the respective features."
   ]
  },
  {
   "cell_type": "code",
   "execution_count": 34,
   "id": "dde2eefd",
   "metadata": {},
   "outputs": [],
   "source": [
    "movies['genresClusters'] = genresKmeans.labels_\n",
    "movies['keywordsClusters'] = keywordsKmeans.labels_\n",
    "movies['castClusters'] = castKmeans.labels_"
   ]
  },
  {
   "cell_type": "markdown",
   "id": "8760b28d",
   "metadata": {},
   "source": [
    "Function to recommend the movies on the basis of Genres."
   ]
  },
  {
   "cell_type": "code",
   "execution_count": 35,
   "id": "3bf095ca",
   "metadata": {},
   "outputs": [],
   "source": [
    "def recommendationsOnGenres(movieTitle, movies, count):\n",
    "    selectedMovie = movies[movies['title'] == movieTitle]\n",
    "    if selectedMovie.empty:\n",
    "        print(f\"Movie '{movieTitle}' not found.\")\n",
    "        return pd.DataFrame()\n",
    "    selectedCluster = selectedMovie['genresClusters'].values[0]\n",
    "    clusterMovies = movies[movies['genresClusters'] == selectedCluster]\n",
    "    recommendations = clusterMovies[clusterMovies['title'] != movieTitle]\n",
    "    recommendations = recommendations.sort_values(by='popularity', ascending=False)\n",
    "    return recommendations.head(count)\n"
   ]
  },
  {
   "cell_type": "markdown",
   "id": "69904259",
   "metadata": {},
   "source": [
    "Function to recommend the movies on the basis of Keywords."
   ]
  },
  {
   "cell_type": "code",
   "execution_count": 36,
   "id": "8474cd4f",
   "metadata": {},
   "outputs": [],
   "source": [
    "def recommendationsOnKeywords(movieTitle, movies, count=5):\n",
    "    selectedMovie = movies[movies['title'] == movieTitle]\n",
    "    if selectedMovie.empty:\n",
    "        print(f\"Movie '{movieTitle}' not found.\")\n",
    "        return pd.DataFrame()\n",
    "    selectedCluster = selectedMovie['keywordsClusters'].values[0]\n",
    "    clusterMovies = movies[movies['keywordsClusters'] == selectedCluster]\n",
    "    recommendations = clusterMovies[clusterMovies['title'] != movieTitle]\n",
    "    recommendations = recommendations.sort_values(by='popularity', ascending=False)\n",
    "    return recommendations.head(count)\n"
   ]
  },
  {
   "cell_type": "markdown",
   "id": "dd69ff68",
   "metadata": {},
   "source": [
    "Function to recommend the movies on the basis of Cast."
   ]
  },
  {
   "cell_type": "code",
   "execution_count": 37,
   "id": "eb146799",
   "metadata": {},
   "outputs": [],
   "source": [
    "def recommendationsOnCast(movieTitle, movies, count=5):\n",
    "    selectedMovie = movies[movies['title'] == movieTitle]\n",
    "    if selectedMovie.empty:\n",
    "        print(f\"Movie '{movieTitle}' not found.\")\n",
    "        return pd.DataFrame()\n",
    "    selectedCluster = selectedMovie['castClusters'].values[0]\n",
    "    clusterMovies = movies[movies['castClusters'] == selectedCluster]\n",
    "    recommendations = clusterMovies[clusterMovies['title'] != movieTitle]\n",
    "    recommendations = recommendations.sort_values(by='popularity', ascending=False)\n",
    "    return recommendations.head(count)\n"
   ]
  },
  {
   "cell_type": "code",
   "execution_count": 38,
   "id": "27312e58",
   "metadata": {},
   "outputs": [
    {
     "name": "stdout",
     "output_type": "stream",
     "text": [
      "\n",
      "Recommendations based on genres:\n",
      "                       title\n",
      "342             Men in Black\n",
      "150          Men in Black II\n",
      "783                Mortdecai\n",
      "531  The Man from U.N.C.L.E.\n",
      "70            Wild Wild West\n"
     ]
    }
   ],
   "source": [
    "moviesRecommendedOnGenres = recommendationsOnGenres('Deadpool', movies, count=5)\n",
    "print(\"\\nRecommendations based on genres:\")\n",
    "print(moviesRecommendedOnGenres[['title']])"
   ]
  },
  {
   "cell_type": "code",
   "execution_count": 39,
   "id": "f23734dc",
   "metadata": {},
   "outputs": [
    {
     "name": "stdout",
     "output_type": "stream",
     "text": [
      "\n",
      "Recommendations based on keywords:\n",
      "                                 title\n",
      "94             Guardians of the Galaxy\n",
      "26          Captain America: Civil War\n",
      "65                     The Dark Knight\n",
      "9   Batman v Superman: Dawn of Justice\n",
      "16                        The Avengers\n"
     ]
    }
   ],
   "source": [
    "moviesRecommendedOnKeywords = recommendationsOnKeywords('Deadpool', movies, count=5)\n",
    "print(\"\\nRecommendations based on keywords:\")\n",
    "print(moviesRecommendedOnKeywords[['title']])"
   ]
  },
  {
   "cell_type": "code",
   "execution_count": 40,
   "id": "a155b17d",
   "metadata": {},
   "outputs": [
    {
     "name": "stdout",
     "output_type": "stream",
     "text": [
      "\n",
      "Recommendations based on cast:\n",
      "                       title  \\\n",
      "546                  Minions   \n",
      "95              Interstellar   \n",
      "94   Guardians of the Galaxy   \n",
      "127       Mad Max: Fury Road   \n",
      "28            Jurassic World   \n",
      "\n",
      "                                             castNames  \n",
      "546  [Sandra Bullock, Jon Hamm, Michael Keaton, All...  \n",
      "95   [Matthew McConaughey, Jessica Chastain, Anne H...  \n",
      "94   [Chris Pratt, Zoe Saldana, Dave Bautista, Vin ...  \n",
      "127  [Tom Hardy, Charlize Theron, Nicholas Hoult, H...  \n",
      "28   [Chris Pratt, Bryce Dallas Howard, Irrfan Khan...  \n"
     ]
    }
   ],
   "source": [
    "moviesRecommendedOnCast = recommendationsOnCast('Deadpool', movies, count=5)\n",
    "print(\"\\nRecommendations based on cast:\")\n",
    "print(moviesRecommendedOnCast[['title', 'castNames']])"
   ]
  },
  {
   "cell_type": "markdown",
   "id": "21c43579",
   "metadata": {},
   "source": [
    "# Evaluation"
   ]
  },
  {
   "cell_type": "code",
   "execution_count": 54,
   "id": "46bf261d",
   "metadata": {},
   "outputs": [
    {
     "name": "stdout",
     "output_type": "stream",
     "text": [
      "Average Precision: 0.99\n",
      "Average Recall: 0.0555\n",
      "Average F1 Score: 0.09\n"
     ]
    }
   ],
   "source": [
    "import pandas as pd\n",
    "import numpy as np\n",
    "\n",
    "k = 100\n",
    "sampledMovies = movies['title'].sample(n=k, random_state=42)\n",
    "\n",
    "precisionList = []\n",
    "recallList = []\n",
    "f1ScoreList = []\n",
    "\n",
    "for title in sampledMovies:\n",
    "    selectedMovie = movies[movies['title'] == title]\n",
    "    if selectedMovie.empty:\n",
    "        continue\n",
    "\n",
    "    selectedGenres = set(selectedMovie['genres'].values[0])\n",
    "    expectedRecommendations = movies[movies['genres'].apply(lambda genres: len(selectedGenres.intersection(set(genres))) > 0)]\n",
    "    expectedMovieTitles = set(expectedRecommendations['title'].values) - {title}\n",
    "\n",
    "    actualRecommendations = recommendationsOnGenres(title, movies, count=500)\n",
    "    actualMovieTitles = set(actualRecommendations['title'].values)\n",
    "\n",
    "    relevantRecommendations = actualMovieTitles.intersection(expectedMovieTitles)\n",
    "    \n",
    "    if len(actualMovieTitles) > 0:\n",
    "        precision = len(relevantRecommendations) / len(actualMovieTitles)\n",
    "    else:\n",
    "        precision = 0\n",
    "\n",
    "  \n",
    "    if len(expectedMovieTitles) > 0:\n",
    "        recall = len(relevantRecommendations) / len(expectedMovieTitles)\n",
    "    else:\n",
    "        recall = 0\n",
    "\n",
    "    \n",
    "    if precision + recall > 0:\n",
    "        f1Score = 2 * (precision * recall) / (precision + recall)\n",
    "    else:\n",
    "        f1Score = 0\n",
    "\n",
    "    \n",
    "    precisionList.append(precision)\n",
    "    recallList.append(recall)\n",
    "    f1ScoreList.append(f1Score)\n",
    "\n",
    "averagePrecision = np.mean(precisionList)\n",
    "averageRecall = np.mean(recallList)\n",
    "averageF1Score = np.mean(f1ScoreList)\n",
    "\n",
    "print(f\"Average Precision: {averagePrecision:.2f}\")\n",
    "print(f\"Average Recall: {averageRecall:.4f}\")\n",
    "print(f\"Average F1 Score: {averageF1Score:.2f}\")\n"
   ]
  },
  {
   "cell_type": "markdown",
   "id": "99a4e384",
   "metadata": {},
   "source": [
    "cluster size 10 and recommendation list size 100"
   ]
  },
  {
   "cell_type": "markdown",
   "id": "ea31dff7",
   "metadata": {},
   "source": [
    "- Average Precision: 0.94\n",
    "- Average Recall: 0.0429\n",
    "- Average F1 Score: 0.08"
   ]
  },
  {
   "cell_type": "markdown",
   "id": "0458a322",
   "metadata": {},
   "source": [
    "cluster size 50 and recommendation list size 100"
   ]
  },
  {
   "cell_type": "markdown",
   "id": "659bc1c6",
   "metadata": {},
   "source": [
    "- Average Precision: 0.98\n",
    "- Average Recall: 0.0513\n",
    "- Average F1 Score: 0.09"
   ]
  },
  {
   "cell_type": "markdown",
   "id": "1ee8c29c",
   "metadata": {},
   "source": [
    "cluster size 100 and recommendation list size 200"
   ]
  },
  {
   "cell_type": "markdown",
   "id": "ca327663",
   "metadata": {},
   "source": [
    "- Average Precision: 0.99\n",
    "- Average Recall: 0.0512\n",
    "- Average F1 Score: 0.09"
   ]
  },
  {
   "cell_type": "code",
   "execution_count": 55,
   "id": "c7f0518b",
   "metadata": {},
   "outputs": [
    {
     "name": "stdout",
     "output_type": "stream",
     "text": [
      "Feature - genres\n",
      "Average Precision: 0.99\n",
      "Average Recall: 0.0512\n",
      "Average F1 Score: 0.09\n",
      "\n",
      "Feature - keywords\n",
      "Average Precision: 0.26\n",
      "Average Recall: 0.1331\n",
      "Average F1 Score: 0.15\n",
      "\n",
      "Feature - castNames\n",
      "Average Precision: 0.03\n",
      "Average Recall: 0.0552\n",
      "Average F1 Score: 0.02\n",
      "\n"
     ]
    }
   ],
   "source": [
    "def evaluate_recommendations(feature, recommendFunction):\n",
    "    precisionList = []\n",
    "    recallList = []\n",
    "    f1ScoreList = []\n",
    "\n",
    "    for title in sampledMovies:\n",
    "        selectedMovie = movies[movies['title'] == title]\n",
    "        if selectedMovie.empty:\n",
    "            continue\n",
    "\n",
    "        if feature == 'genres':\n",
    "            selectedFeature = set(selectedMovie['genres'].values[0])\n",
    "            expectedRecommendations = movies[movies['genres'].apply(lambda x: len(selectedFeature.intersection(set(x))) > 0)]\n",
    "        elif feature == 'keywords':\n",
    "            selectedFeature = set(selectedMovie['keywords'].values[0])\n",
    "            expectedRecommendations = movies[movies['keywords'].apply(lambda x: len(selectedFeature.intersection(set(x))) > 0)]\n",
    "        elif feature == 'castNames':\n",
    "            selectedFeature = set(selectedMovie['castNames'].values[0])\n",
    "            expectedRecommendations = movies[movies['castNames'].apply(lambda x: len(selectedFeature.intersection(set(x))) > 0)]\n",
    "        else:\n",
    "            continue\n",
    "\n",
    "        expectedMovieTitles = set(expectedRecommendations['title'].values) - {title}\n",
    "        \n",
    "        actualRecommendations = recommendFunction(title, movies, count=200)\n",
    "        actualMovieTitles = set(actualRecommendations['title'].values)\n",
    "        \n",
    "        relevantRecommendations = actualMovieTitles.intersection(expectedMovieTitles)\n",
    "\n",
    "        # Precision\n",
    "        if len(actualMovieTitles) > 0:\n",
    "            precision = len(relevantRecommendations) / len(actualMovieTitles)\n",
    "        else:\n",
    "            precision = 0\n",
    "\n",
    "        # Recall\n",
    "        if len(expectedMovieTitles) > 0:\n",
    "            recall = len(relevantRecommendations) / len(expectedMovieTitles)\n",
    "        else:\n",
    "            recall = 0\n",
    "\n",
    "        # F1 Score\n",
    "        if precision + recall > 0:\n",
    "            f1Score = 2 * (precision * recall) / (precision + recall)\n",
    "        else:\n",
    "            f1Score = 0\n",
    "        \n",
    "        precisionList.append(precision)\n",
    "        recallList.append(recall)\n",
    "        f1ScoreList.append(f1Score)\n",
    "\n",
    "    averagePrecision = np.mean(precisionList)\n",
    "    averageRecall = np.mean(recallList)\n",
    "    averageF1Score = np.mean(f1ScoreList)\n",
    "\n",
    "    print(f\"Feature - {feature}\")\n",
    "    print(f\"Average Precision: {averagePrecision:.2f}\")\n",
    "    print(f\"Average Recall: {averageRecall:.4f}\")\n",
    "    print(f\"Average F1 Score: {averageF1Score:.2f}\\n\")\n",
    "\n",
    "\n",
    "evaluate_recommendations('genres', recommendationsOnGenres)\n",
    "evaluate_recommendations('keywords', recommendationsOnKeywords)\n",
    "evaluate_recommendations('castNames', recommendationsOnCast)\n"
   ]
  },
  {
   "cell_type": "code",
   "execution_count": null,
   "id": "3f7331e8",
   "metadata": {},
   "outputs": [],
   "source": []
  }
 ],
 "metadata": {
  "kernelspec": {
   "display_name": "Python 3 (ipykernel)",
   "language": "python",
   "name": "python3"
  },
  "language_info": {
   "codemirror_mode": {
    "name": "ipython",
    "version": 3
   },
   "file_extension": ".py",
   "mimetype": "text/x-python",
   "name": "python",
   "nbconvert_exporter": "python",
   "pygments_lexer": "ipython3",
   "version": "3.10.7"
  }
 },
 "nbformat": 4,
 "nbformat_minor": 5
}
